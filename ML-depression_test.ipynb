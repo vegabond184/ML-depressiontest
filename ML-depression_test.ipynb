{
  "nbformat": 4,
  "nbformat_minor": 0,
  "metadata": {
    "colab": {
      "provenance": []
    },
    "kernelspec": {
      "name": "python3",
      "display_name": "Python 3"
    },
    "language_info": {
      "name": "python"
    }
  },
  "cells": [
    {
      "cell_type": "code",
      "source": [
        "#tensorflow==2.19.0\n",
        "#pandas==2.2.2\n",
        "#scikit-learn==1.6.1\n",
        "#numpy==2.0.2"
      ],
      "metadata": {
        "id": "x6lBIRnKWr4e"
      },
      "execution_count": null,
      "outputs": []
    },
    {
      "cell_type": "code",
      "execution_count": 18,
      "metadata": {
        "id": "fVP-JNx_Db0W"
      },
      "outputs": [],
      "source": [
        "#importing dataset\n",
        "import pandas as pd\n",
        "df = pd.read_csv('student_depression_dataset.csv')"
      ]
    },
    {
      "cell_type": "code",
      "source": [
        "df.count()"
      ],
      "metadata": {
        "colab": {
          "base_uri": "https://localhost:8080/",
          "height": 837
        },
        "id": "7kL3CPgSM_pL",
        "outputId": "9a59d80b-bcc5-4262-c810-ed835e3cdc58",
        "collapsed": true
      },
      "execution_count": 44,
      "outputs": [
        {
          "output_type": "execute_result",
          "data": {
            "text/plain": [
              "id                                       27901\n",
              "Gender                                   27901\n",
              "Age                                      27901\n",
              "City                                     27901\n",
              "Profession                               27901\n",
              "Academic Pressure                        27901\n",
              "Work Pressure                            27901\n",
              "CGPA                                     27901\n",
              "Study Satisfaction                       27901\n",
              "Job Satisfaction                         27901\n",
              "Sleep Duration                           27901\n",
              "Dietary Habits                           27901\n",
              "Degree                                   27901\n",
              "Have you ever had suicidal thoughts ?    27901\n",
              "Work/Study Hours                         27901\n",
              "Financial Stress                         27898\n",
              "Family History of Mental Illness         27901\n",
              "Depression                               27901\n",
              "gender_encode                            27901\n",
              "city_encode                              27901\n",
              "suicidal_encoded                         27901\n",
              "Sleep_encode                             27901\n",
              "dietary_encode                           27901\n",
              "history_encode                           27901\n",
              "dtype: int64"
            ],
            "text/html": [
              "<div>\n",
              "<style scoped>\n",
              "    .dataframe tbody tr th:only-of-type {\n",
              "        vertical-align: middle;\n",
              "    }\n",
              "\n",
              "    .dataframe tbody tr th {\n",
              "        vertical-align: top;\n",
              "    }\n",
              "\n",
              "    .dataframe thead th {\n",
              "        text-align: right;\n",
              "    }\n",
              "</style>\n",
              "<table border=\"1\" class=\"dataframe\">\n",
              "  <thead>\n",
              "    <tr style=\"text-align: right;\">\n",
              "      <th></th>\n",
              "      <th>0</th>\n",
              "    </tr>\n",
              "  </thead>\n",
              "  <tbody>\n",
              "    <tr>\n",
              "      <th>id</th>\n",
              "      <td>27901</td>\n",
              "    </tr>\n",
              "    <tr>\n",
              "      <th>Gender</th>\n",
              "      <td>27901</td>\n",
              "    </tr>\n",
              "    <tr>\n",
              "      <th>Age</th>\n",
              "      <td>27901</td>\n",
              "    </tr>\n",
              "    <tr>\n",
              "      <th>City</th>\n",
              "      <td>27901</td>\n",
              "    </tr>\n",
              "    <tr>\n",
              "      <th>Profession</th>\n",
              "      <td>27901</td>\n",
              "    </tr>\n",
              "    <tr>\n",
              "      <th>Academic Pressure</th>\n",
              "      <td>27901</td>\n",
              "    </tr>\n",
              "    <tr>\n",
              "      <th>Work Pressure</th>\n",
              "      <td>27901</td>\n",
              "    </tr>\n",
              "    <tr>\n",
              "      <th>CGPA</th>\n",
              "      <td>27901</td>\n",
              "    </tr>\n",
              "    <tr>\n",
              "      <th>Study Satisfaction</th>\n",
              "      <td>27901</td>\n",
              "    </tr>\n",
              "    <tr>\n",
              "      <th>Job Satisfaction</th>\n",
              "      <td>27901</td>\n",
              "    </tr>\n",
              "    <tr>\n",
              "      <th>Sleep Duration</th>\n",
              "      <td>27901</td>\n",
              "    </tr>\n",
              "    <tr>\n",
              "      <th>Dietary Habits</th>\n",
              "      <td>27901</td>\n",
              "    </tr>\n",
              "    <tr>\n",
              "      <th>Degree</th>\n",
              "      <td>27901</td>\n",
              "    </tr>\n",
              "    <tr>\n",
              "      <th>Have you ever had suicidal thoughts ?</th>\n",
              "      <td>27901</td>\n",
              "    </tr>\n",
              "    <tr>\n",
              "      <th>Work/Study Hours</th>\n",
              "      <td>27901</td>\n",
              "    </tr>\n",
              "    <tr>\n",
              "      <th>Financial Stress</th>\n",
              "      <td>27898</td>\n",
              "    </tr>\n",
              "    <tr>\n",
              "      <th>Family History of Mental Illness</th>\n",
              "      <td>27901</td>\n",
              "    </tr>\n",
              "    <tr>\n",
              "      <th>Depression</th>\n",
              "      <td>27901</td>\n",
              "    </tr>\n",
              "    <tr>\n",
              "      <th>gender_encode</th>\n",
              "      <td>27901</td>\n",
              "    </tr>\n",
              "    <tr>\n",
              "      <th>city_encode</th>\n",
              "      <td>27901</td>\n",
              "    </tr>\n",
              "    <tr>\n",
              "      <th>suicidal_encoded</th>\n",
              "      <td>27901</td>\n",
              "    </tr>\n",
              "    <tr>\n",
              "      <th>Sleep_encode</th>\n",
              "      <td>27901</td>\n",
              "    </tr>\n",
              "    <tr>\n",
              "      <th>dietary_encode</th>\n",
              "      <td>27901</td>\n",
              "    </tr>\n",
              "    <tr>\n",
              "      <th>history_encode</th>\n",
              "      <td>27901</td>\n",
              "    </tr>\n",
              "  </tbody>\n",
              "</table>\n",
              "</div><br><label><b>dtype:</b> int64</label>"
            ]
          },
          "metadata": {},
          "execution_count": 44
        }
      ]
    },
    {
      "cell_type": "code",
      "source": [
        "#handling null values\n",
        "import numpy as np\n",
        "\n",
        "df['Financial Stress'] = df['Financial Stress'].replace('?', np.nan)\n",
        "df['Financial Stress'] = df['Financial Stress'].astype(float)"
      ],
      "metadata": {
        "id": "QdLYGz88O0ZS"
      },
      "execution_count": 19,
      "outputs": []
    },
    {
      "cell_type": "code",
      "source": [
        "#applying one hot-encoding for all non-numaric labels\n",
        "\n",
        "from sklearn.preprocessing import LabelEncoder\n",
        "label_encoder = LabelEncoder()\n",
        "df['gender_encode'] = label_encoder.fit_transform(df['Gender'])\n",
        "df['city_encode'] = label_encoder.fit_transform(df['City'])\n",
        "df['suicidal_encoded'] = label_encoder.fit_transform(df['Have you ever had suicidal thoughts ?'])\n",
        "df['Sleep_encode'] = label_encoder.fit_transform(df['Sleep Duration'])\n",
        "df['dietary_encode'] = label_encoder.fit_transform(df['Dietary Habits'])\n",
        "df['history_encode'] = label_encoder.fit_transform(df['Family History of Mental Illness'])\n",
        "\n",
        "\n",
        "# df.head()"
      ],
      "metadata": {
        "id": "0RhM9iG7D2RN"
      },
      "execution_count": 20,
      "outputs": []
    },
    {
      "cell_type": "code",
      "source": [
        "#df.head()"
      ],
      "metadata": {
        "id": "fLGlyER6OrJt",
        "colab": {
          "base_uri": "https://localhost:8080/",
          "height": 325
        },
        "outputId": "302eef0b-6d14-4b6f-948f-b39de8c5cdf1",
        "collapsed": true
      },
      "execution_count": 5,
      "outputs": [
        {
          "output_type": "execute_result",
          "data": {
            "text/plain": [
              "   id  Gender   Age           City Profession  Academic Pressure  \\\n",
              "0   2    Male  33.0  Visakhapatnam    Student                5.0   \n",
              "1   8  Female  24.0      Bangalore    Student                2.0   \n",
              "2  26    Male  31.0       Srinagar    Student                3.0   \n",
              "3  30  Female  28.0       Varanasi    Student                3.0   \n",
              "4  32  Female  25.0         Jaipur    Student                4.0   \n",
              "\n",
              "   Work Pressure  CGPA  Study Satisfaction  Job Satisfaction  ...  \\\n",
              "0            0.0  8.97                 2.0               0.0  ...   \n",
              "1            0.0  5.90                 5.0               0.0  ...   \n",
              "2            0.0  7.03                 5.0               0.0  ...   \n",
              "3            0.0  5.59                 2.0               0.0  ...   \n",
              "4            0.0  8.13                 3.0               0.0  ...   \n",
              "\n",
              "  Work/Study Hours Financial Stress Family History of Mental Illness  \\\n",
              "0              3.0              1.0                               No   \n",
              "1              3.0              2.0                              Yes   \n",
              "2              9.0              1.0                              Yes   \n",
              "3              4.0              5.0                              Yes   \n",
              "4              1.0              1.0                               No   \n",
              "\n",
              "  Depression  gender_encode  city_encode suicidal_encoded  Sleep_encode  \\\n",
              "0          1              1           51                1             0   \n",
              "1          0              0            5                0             0   \n",
              "2          0              1           44                0             2   \n",
              "3          1              0           49                1             1   \n",
              "4          0              0           18                1             0   \n",
              "\n",
              "   dietary_encode  history_encode  \n",
              "0               0               0  \n",
              "1               1               1  \n",
              "2               0               1  \n",
              "3               1               1  \n",
              "4               1               0  \n",
              "\n",
              "[5 rows x 24 columns]"
            ],
            "text/html": [
              "\n",
              "  <div id=\"df-cc85cfe7-723c-4a96-b97d-85d0f5437c6b\" class=\"colab-df-container\">\n",
              "    <div>\n",
              "<style scoped>\n",
              "    .dataframe tbody tr th:only-of-type {\n",
              "        vertical-align: middle;\n",
              "    }\n",
              "\n",
              "    .dataframe tbody tr th {\n",
              "        vertical-align: top;\n",
              "    }\n",
              "\n",
              "    .dataframe thead th {\n",
              "        text-align: right;\n",
              "    }\n",
              "</style>\n",
              "<table border=\"1\" class=\"dataframe\">\n",
              "  <thead>\n",
              "    <tr style=\"text-align: right;\">\n",
              "      <th></th>\n",
              "      <th>id</th>\n",
              "      <th>Gender</th>\n",
              "      <th>Age</th>\n",
              "      <th>City</th>\n",
              "      <th>Profession</th>\n",
              "      <th>Academic Pressure</th>\n",
              "      <th>Work Pressure</th>\n",
              "      <th>CGPA</th>\n",
              "      <th>Study Satisfaction</th>\n",
              "      <th>Job Satisfaction</th>\n",
              "      <th>...</th>\n",
              "      <th>Work/Study Hours</th>\n",
              "      <th>Financial Stress</th>\n",
              "      <th>Family History of Mental Illness</th>\n",
              "      <th>Depression</th>\n",
              "      <th>gender_encode</th>\n",
              "      <th>city_encode</th>\n",
              "      <th>suicidal_encoded</th>\n",
              "      <th>Sleep_encode</th>\n",
              "      <th>dietary_encode</th>\n",
              "      <th>history_encode</th>\n",
              "    </tr>\n",
              "  </thead>\n",
              "  <tbody>\n",
              "    <tr>\n",
              "      <th>0</th>\n",
              "      <td>2</td>\n",
              "      <td>Male</td>\n",
              "      <td>33.0</td>\n",
              "      <td>Visakhapatnam</td>\n",
              "      <td>Student</td>\n",
              "      <td>5.0</td>\n",
              "      <td>0.0</td>\n",
              "      <td>8.97</td>\n",
              "      <td>2.0</td>\n",
              "      <td>0.0</td>\n",
              "      <td>...</td>\n",
              "      <td>3.0</td>\n",
              "      <td>1.0</td>\n",
              "      <td>No</td>\n",
              "      <td>1</td>\n",
              "      <td>1</td>\n",
              "      <td>51</td>\n",
              "      <td>1</td>\n",
              "      <td>0</td>\n",
              "      <td>0</td>\n",
              "      <td>0</td>\n",
              "    </tr>\n",
              "    <tr>\n",
              "      <th>1</th>\n",
              "      <td>8</td>\n",
              "      <td>Female</td>\n",
              "      <td>24.0</td>\n",
              "      <td>Bangalore</td>\n",
              "      <td>Student</td>\n",
              "      <td>2.0</td>\n",
              "      <td>0.0</td>\n",
              "      <td>5.90</td>\n",
              "      <td>5.0</td>\n",
              "      <td>0.0</td>\n",
              "      <td>...</td>\n",
              "      <td>3.0</td>\n",
              "      <td>2.0</td>\n",
              "      <td>Yes</td>\n",
              "      <td>0</td>\n",
              "      <td>0</td>\n",
              "      <td>5</td>\n",
              "      <td>0</td>\n",
              "      <td>0</td>\n",
              "      <td>1</td>\n",
              "      <td>1</td>\n",
              "    </tr>\n",
              "    <tr>\n",
              "      <th>2</th>\n",
              "      <td>26</td>\n",
              "      <td>Male</td>\n",
              "      <td>31.0</td>\n",
              "      <td>Srinagar</td>\n",
              "      <td>Student</td>\n",
              "      <td>3.0</td>\n",
              "      <td>0.0</td>\n",
              "      <td>7.03</td>\n",
              "      <td>5.0</td>\n",
              "      <td>0.0</td>\n",
              "      <td>...</td>\n",
              "      <td>9.0</td>\n",
              "      <td>1.0</td>\n",
              "      <td>Yes</td>\n",
              "      <td>0</td>\n",
              "      <td>1</td>\n",
              "      <td>44</td>\n",
              "      <td>0</td>\n",
              "      <td>2</td>\n",
              "      <td>0</td>\n",
              "      <td>1</td>\n",
              "    </tr>\n",
              "    <tr>\n",
              "      <th>3</th>\n",
              "      <td>30</td>\n",
              "      <td>Female</td>\n",
              "      <td>28.0</td>\n",
              "      <td>Varanasi</td>\n",
              "      <td>Student</td>\n",
              "      <td>3.0</td>\n",
              "      <td>0.0</td>\n",
              "      <td>5.59</td>\n",
              "      <td>2.0</td>\n",
              "      <td>0.0</td>\n",
              "      <td>...</td>\n",
              "      <td>4.0</td>\n",
              "      <td>5.0</td>\n",
              "      <td>Yes</td>\n",
              "      <td>1</td>\n",
              "      <td>0</td>\n",
              "      <td>49</td>\n",
              "      <td>1</td>\n",
              "      <td>1</td>\n",
              "      <td>1</td>\n",
              "      <td>1</td>\n",
              "    </tr>\n",
              "    <tr>\n",
              "      <th>4</th>\n",
              "      <td>32</td>\n",
              "      <td>Female</td>\n",
              "      <td>25.0</td>\n",
              "      <td>Jaipur</td>\n",
              "      <td>Student</td>\n",
              "      <td>4.0</td>\n",
              "      <td>0.0</td>\n",
              "      <td>8.13</td>\n",
              "      <td>3.0</td>\n",
              "      <td>0.0</td>\n",
              "      <td>...</td>\n",
              "      <td>1.0</td>\n",
              "      <td>1.0</td>\n",
              "      <td>No</td>\n",
              "      <td>0</td>\n",
              "      <td>0</td>\n",
              "      <td>18</td>\n",
              "      <td>1</td>\n",
              "      <td>0</td>\n",
              "      <td>1</td>\n",
              "      <td>0</td>\n",
              "    </tr>\n",
              "  </tbody>\n",
              "</table>\n",
              "<p>5 rows × 24 columns</p>\n",
              "</div>\n",
              "    <div class=\"colab-df-buttons\">\n",
              "\n",
              "  <div class=\"colab-df-container\">\n",
              "    <button class=\"colab-df-convert\" onclick=\"convertToInteractive('df-cc85cfe7-723c-4a96-b97d-85d0f5437c6b')\"\n",
              "            title=\"Convert this dataframe to an interactive table.\"\n",
              "            style=\"display:none;\">\n",
              "\n",
              "  <svg xmlns=\"http://www.w3.org/2000/svg\" height=\"24px\" viewBox=\"0 -960 960 960\">\n",
              "    <path d=\"M120-120v-720h720v720H120Zm60-500h600v-160H180v160Zm220 220h160v-160H400v160Zm0 220h160v-160H400v160ZM180-400h160v-160H180v160Zm440 0h160v-160H620v160ZM180-180h160v-160H180v160Zm440 0h160v-160H620v160Z\"/>\n",
              "  </svg>\n",
              "    </button>\n",
              "\n",
              "  <style>\n",
              "    .colab-df-container {\n",
              "      display:flex;\n",
              "      gap: 12px;\n",
              "    }\n",
              "\n",
              "    .colab-df-convert {\n",
              "      background-color: #E8F0FE;\n",
              "      border: none;\n",
              "      border-radius: 50%;\n",
              "      cursor: pointer;\n",
              "      display: none;\n",
              "      fill: #1967D2;\n",
              "      height: 32px;\n",
              "      padding: 0 0 0 0;\n",
              "      width: 32px;\n",
              "    }\n",
              "\n",
              "    .colab-df-convert:hover {\n",
              "      background-color: #E2EBFA;\n",
              "      box-shadow: 0px 1px 2px rgba(60, 64, 67, 0.3), 0px 1px 3px 1px rgba(60, 64, 67, 0.15);\n",
              "      fill: #174EA6;\n",
              "    }\n",
              "\n",
              "    .colab-df-buttons div {\n",
              "      margin-bottom: 4px;\n",
              "    }\n",
              "\n",
              "    [theme=dark] .colab-df-convert {\n",
              "      background-color: #3B4455;\n",
              "      fill: #D2E3FC;\n",
              "    }\n",
              "\n",
              "    [theme=dark] .colab-df-convert:hover {\n",
              "      background-color: #434B5C;\n",
              "      box-shadow: 0px 1px 3px 1px rgba(0, 0, 0, 0.15);\n",
              "      filter: drop-shadow(0px 1px 2px rgba(0, 0, 0, 0.3));\n",
              "      fill: #FFFFFF;\n",
              "    }\n",
              "  </style>\n",
              "\n",
              "    <script>\n",
              "      const buttonEl =\n",
              "        document.querySelector('#df-cc85cfe7-723c-4a96-b97d-85d0f5437c6b button.colab-df-convert');\n",
              "      buttonEl.style.display =\n",
              "        google.colab.kernel.accessAllowed ? 'block' : 'none';\n",
              "\n",
              "      async function convertToInteractive(key) {\n",
              "        const element = document.querySelector('#df-cc85cfe7-723c-4a96-b97d-85d0f5437c6b');\n",
              "        const dataTable =\n",
              "          await google.colab.kernel.invokeFunction('convertToInteractive',\n",
              "                                                    [key], {});\n",
              "        if (!dataTable) return;\n",
              "\n",
              "        const docLinkHtml = 'Like what you see? Visit the ' +\n",
              "          '<a target=\"_blank\" href=https://colab.research.google.com/notebooks/data_table.ipynb>data table notebook</a>'\n",
              "          + ' to learn more about interactive tables.';\n",
              "        element.innerHTML = '';\n",
              "        dataTable['output_type'] = 'display_data';\n",
              "        await google.colab.output.renderOutput(dataTable, element);\n",
              "        const docLink = document.createElement('div');\n",
              "        docLink.innerHTML = docLinkHtml;\n",
              "        element.appendChild(docLink);\n",
              "      }\n",
              "    </script>\n",
              "  </div>\n",
              "\n",
              "\n",
              "    <div id=\"df-5d517f06-4329-4932-ba0f-8ff162658aaf\">\n",
              "      <button class=\"colab-df-quickchart\" onclick=\"quickchart('df-5d517f06-4329-4932-ba0f-8ff162658aaf')\"\n",
              "                title=\"Suggest charts\"\n",
              "                style=\"display:none;\">\n",
              "\n",
              "<svg xmlns=\"http://www.w3.org/2000/svg\" height=\"24px\"viewBox=\"0 0 24 24\"\n",
              "     width=\"24px\">\n",
              "    <g>\n",
              "        <path d=\"M19 3H5c-1.1 0-2 .9-2 2v14c0 1.1.9 2 2 2h14c1.1 0 2-.9 2-2V5c0-1.1-.9-2-2-2zM9 17H7v-7h2v7zm4 0h-2V7h2v10zm4 0h-2v-4h2v4z\"/>\n",
              "    </g>\n",
              "</svg>\n",
              "      </button>\n",
              "\n",
              "<style>\n",
              "  .colab-df-quickchart {\n",
              "      --bg-color: #E8F0FE;\n",
              "      --fill-color: #1967D2;\n",
              "      --hover-bg-color: #E2EBFA;\n",
              "      --hover-fill-color: #174EA6;\n",
              "      --disabled-fill-color: #AAA;\n",
              "      --disabled-bg-color: #DDD;\n",
              "  }\n",
              "\n",
              "  [theme=dark] .colab-df-quickchart {\n",
              "      --bg-color: #3B4455;\n",
              "      --fill-color: #D2E3FC;\n",
              "      --hover-bg-color: #434B5C;\n",
              "      --hover-fill-color: #FFFFFF;\n",
              "      --disabled-bg-color: #3B4455;\n",
              "      --disabled-fill-color: #666;\n",
              "  }\n",
              "\n",
              "  .colab-df-quickchart {\n",
              "    background-color: var(--bg-color);\n",
              "    border: none;\n",
              "    border-radius: 50%;\n",
              "    cursor: pointer;\n",
              "    display: none;\n",
              "    fill: var(--fill-color);\n",
              "    height: 32px;\n",
              "    padding: 0;\n",
              "    width: 32px;\n",
              "  }\n",
              "\n",
              "  .colab-df-quickchart:hover {\n",
              "    background-color: var(--hover-bg-color);\n",
              "    box-shadow: 0 1px 2px rgba(60, 64, 67, 0.3), 0 1px 3px 1px rgba(60, 64, 67, 0.15);\n",
              "    fill: var(--button-hover-fill-color);\n",
              "  }\n",
              "\n",
              "  .colab-df-quickchart-complete:disabled,\n",
              "  .colab-df-quickchart-complete:disabled:hover {\n",
              "    background-color: var(--disabled-bg-color);\n",
              "    fill: var(--disabled-fill-color);\n",
              "    box-shadow: none;\n",
              "  }\n",
              "\n",
              "  .colab-df-spinner {\n",
              "    border: 2px solid var(--fill-color);\n",
              "    border-color: transparent;\n",
              "    border-bottom-color: var(--fill-color);\n",
              "    animation:\n",
              "      spin 1s steps(1) infinite;\n",
              "  }\n",
              "\n",
              "  @keyframes spin {\n",
              "    0% {\n",
              "      border-color: transparent;\n",
              "      border-bottom-color: var(--fill-color);\n",
              "      border-left-color: var(--fill-color);\n",
              "    }\n",
              "    20% {\n",
              "      border-color: transparent;\n",
              "      border-left-color: var(--fill-color);\n",
              "      border-top-color: var(--fill-color);\n",
              "    }\n",
              "    30% {\n",
              "      border-color: transparent;\n",
              "      border-left-color: var(--fill-color);\n",
              "      border-top-color: var(--fill-color);\n",
              "      border-right-color: var(--fill-color);\n",
              "    }\n",
              "    40% {\n",
              "      border-color: transparent;\n",
              "      border-right-color: var(--fill-color);\n",
              "      border-top-color: var(--fill-color);\n",
              "    }\n",
              "    60% {\n",
              "      border-color: transparent;\n",
              "      border-right-color: var(--fill-color);\n",
              "    }\n",
              "    80% {\n",
              "      border-color: transparent;\n",
              "      border-right-color: var(--fill-color);\n",
              "      border-bottom-color: var(--fill-color);\n",
              "    }\n",
              "    90% {\n",
              "      border-color: transparent;\n",
              "      border-bottom-color: var(--fill-color);\n",
              "    }\n",
              "  }\n",
              "</style>\n",
              "\n",
              "      <script>\n",
              "        async function quickchart(key) {\n",
              "          const quickchartButtonEl =\n",
              "            document.querySelector('#' + key + ' button');\n",
              "          quickchartButtonEl.disabled = true;  // To prevent multiple clicks.\n",
              "          quickchartButtonEl.classList.add('colab-df-spinner');\n",
              "          try {\n",
              "            const charts = await google.colab.kernel.invokeFunction(\n",
              "                'suggestCharts', [key], {});\n",
              "          } catch (error) {\n",
              "            console.error('Error during call to suggestCharts:', error);\n",
              "          }\n",
              "          quickchartButtonEl.classList.remove('colab-df-spinner');\n",
              "          quickchartButtonEl.classList.add('colab-df-quickchart-complete');\n",
              "        }\n",
              "        (() => {\n",
              "          let quickchartButtonEl =\n",
              "            document.querySelector('#df-5d517f06-4329-4932-ba0f-8ff162658aaf button');\n",
              "          quickchartButtonEl.style.display =\n",
              "            google.colab.kernel.accessAllowed ? 'block' : 'none';\n",
              "        })();\n",
              "      </script>\n",
              "    </div>\n",
              "\n",
              "    </div>\n",
              "  </div>\n"
            ],
            "application/vnd.google.colaboratory.intrinsic+json": {
              "type": "dataframe",
              "variable_name": "df"
            }
          },
          "metadata": {},
          "execution_count": 5
        }
      ]
    },
    {
      "cell_type": "code",
      "source": [
        "# just extracting data for city name and the numbers that are given to them for future\n",
        "\n",
        "# df['city_encode'] = df['city_encode'].astype(str)\n",
        "\n",
        "# city_code = df[\"dietary_encode\"]\n",
        "# city_name = df['Dietary Habits']\n",
        "# k = {'name': city_name, 'code': city_code}\n",
        "# citydata = pd.DataFrame(k)\n",
        "# citydata.to_csv('Dietary_Habits.csv')"
      ],
      "metadata": {
        "id": "hbrhH6XDLORg"
      },
      "execution_count": 6,
      "outputs": []
    },
    {
      "cell_type": "code",
      "source": [
        "# x have total of 10 feature\n",
        "x = df.drop([\"Depression\",\"CGPA\",\"city_encode\",\"Gender\",\"id\",\"City\",\"Have you ever had suicidal thoughts ?\", \"Profession\", \"Work Pressure\", \"Job Satisfaction\", \"Sleep Duration\", \"Dietary Habits\", \"Degree\", \"Family History of Mental Illness\"],axis=1)\n",
        "# target variable Depression\n",
        "y = df['Depression']"
      ],
      "metadata": {
        "id": "ZafOvGdBE2Qo"
      },
      "execution_count": 21,
      "outputs": []
    },
    {
      "cell_type": "code",
      "source": [
        "# x = df.drop([\"Gender\",\"id\",\"City\",\"Have you ever had suicidal thoughts ?\", \"Profession\", \"Work Pressure\", \"Job Satisfaction\", \"Sleep Duration\", \"Dietary Habits\", \"Degree\", \"Family History of Mental Illness\"],axis=1)\n",
        "# x.corr()"
      ],
      "metadata": {
        "id": "Hg5V75qdKOmJ"
      },
      "execution_count": null,
      "outputs": []
    },
    {
      "cell_type": "code",
      "source": [
        "# spliting tarining data and testing data\n",
        "from sklearn.model_selection import train_test_split\n",
        "\n",
        "x_train, x_test, y_train, y_test = train_test_split(\n",
        "    x, y, test_size=0.02, random_state=0)"
      ],
      "metadata": {
        "id": "ykGBVJpWFxBu"
      },
      "execution_count": 59,
      "outputs": []
    },
    {
      "cell_type": "code",
      "source": [
        "x_train.head()"
      ],
      "metadata": {
        "id": "-Iqs5TSXIRUT"
      },
      "execution_count": null,
      "outputs": []
    },
    {
      "cell_type": "code",
      "source": [
        "'''\n",
        "First making an nural network to solve our classification problem\n",
        "\n",
        "'''\n",
        "\n",
        "\n",
        "\n",
        "import tensorflow as tf\n",
        "\n",
        "from tensorflow.keras.callbacks import EarlyStopping\n",
        "\n",
        "# Define the EarlyStopping callback\n",
        "early_stopping_callback = EarlyStopping(\n",
        "    monitor='Accuracy',  # Metric to monitor\n",
        "    patience=5,          # Number of epochs to wait for improvement\n",
        "    mode='max',          # 'min' for loss (stop when it stops decreasing), 'max' for accuracy (stop when it stops increasing)\n",
        "    restore_best_weights=True # Restore weights from the best epoch\n",
        ")\n",
        "\n",
        "\n",
        "model = tf.keras.Sequential([\n",
        "\n",
        "    tf.keras.layers.Dense(10,),\n",
        "    tf.keras.layers.Dense(10, activation='relu'),\n",
        "    tf.keras.layers.Dense(10, activation='relu'),\n",
        "    tf.keras.layers.Dense(1, activation='sigmoid') # Added sigmoid for binary classification\n",
        "])\n",
        "\n",
        "\n",
        "model.compile(loss=tf.keras.losses.binary_crossentropy,\n",
        "              optimizer=tf.keras.optimizers.Adam(learning_rate=0.001),\n",
        "              metrics=[\"Accuracy\"])\n",
        "\n",
        "model.fit(x_train_cleaned, y_train_cleaned, epochs=100, callbacks=[early_stopping_callback], validation_data=(x_test, y_test))"
      ],
      "metadata": {
        "id": "K6f2hwEGGMWw",
        "colab": {
          "base_uri": "https://localhost:8080/"
        },
        "outputId": "07801777-1419-4343-cd4d-239d5bcd00fb"
      },
      "execution_count": 63,
      "outputs": [
        {
          "output_type": "stream",
          "name": "stdout",
          "text": [
            "Epoch 1/100\n",
            "\u001b[1m855/855\u001b[0m \u001b[32m━━━━━━━━━━━━━━━━━━━━\u001b[0m\u001b[37m\u001b[0m \u001b[1m4s\u001b[0m 2ms/step - Accuracy: 0.7483 - loss: 0.5018 - val_Accuracy: 0.8623 - val_loss: 0.3465\n",
            "Epoch 2/100\n",
            "\u001b[1m855/855\u001b[0m \u001b[32m━━━━━━━━━━━━━━━━━━━━\u001b[0m\u001b[37m\u001b[0m \u001b[1m2s\u001b[0m 2ms/step - Accuracy: 0.8375 - loss: 0.3681 - val_Accuracy: 0.8301 - val_loss: 0.4002\n",
            "Epoch 3/100\n",
            "\u001b[1m855/855\u001b[0m \u001b[32m━━━━━━━━━━━━━━━━━━━━\u001b[0m\u001b[37m\u001b[0m \u001b[1m3s\u001b[0m 2ms/step - Accuracy: 0.8443 - loss: 0.3595 - val_Accuracy: 0.8623 - val_loss: 0.3479\n",
            "Epoch 4/100\n",
            "\u001b[1m855/855\u001b[0m \u001b[32m━━━━━━━━━━━━━━━━━━━━\u001b[0m\u001b[37m\u001b[0m \u001b[1m2s\u001b[0m 2ms/step - Accuracy: 0.8418 - loss: 0.3621 - val_Accuracy: 0.8426 - val_loss: 0.3795\n",
            "Epoch 5/100\n",
            "\u001b[1m855/855\u001b[0m \u001b[32m━━━━━━━━━━━━━━━━━━━━\u001b[0m\u001b[37m\u001b[0m \u001b[1m3s\u001b[0m 2ms/step - Accuracy: 0.8445 - loss: 0.3561 - val_Accuracy: 0.8515 - val_loss: 0.3700\n",
            "Epoch 6/100\n",
            "\u001b[1m855/855\u001b[0m \u001b[32m━━━━━━━━━━━━━━━━━━━━\u001b[0m\u001b[37m\u001b[0m \u001b[1m2s\u001b[0m 3ms/step - Accuracy: 0.8429 - loss: 0.3570 - val_Accuracy: 0.8479 - val_loss: 0.3429\n",
            "Epoch 7/100\n",
            "\u001b[1m855/855\u001b[0m \u001b[32m━━━━━━━━━━━━━━━━━━━━\u001b[0m\u001b[37m\u001b[0m \u001b[1m2s\u001b[0m 2ms/step - Accuracy: 0.8419 - loss: 0.3591 - val_Accuracy: 0.8640 - val_loss: 0.3465\n",
            "Epoch 8/100\n",
            "\u001b[1m855/855\u001b[0m \u001b[32m━━━━━━━━━━━━━━━━━━━━\u001b[0m\u001b[37m\u001b[0m \u001b[1m2s\u001b[0m 2ms/step - Accuracy: 0.8407 - loss: 0.3591 - val_Accuracy: 0.8515 - val_loss: 0.3420\n",
            "Epoch 9/100\n",
            "\u001b[1m855/855\u001b[0m \u001b[32m━━━━━━━━━━━━━━━━━━━━\u001b[0m\u001b[37m\u001b[0m \u001b[1m3s\u001b[0m 2ms/step - Accuracy: 0.8440 - loss: 0.3558 - val_Accuracy: 0.8587 - val_loss: 0.3417\n",
            "Epoch 10/100\n",
            "\u001b[1m855/855\u001b[0m \u001b[32m━━━━━━━━━━━━━━━━━━━━\u001b[0m\u001b[37m\u001b[0m \u001b[1m2s\u001b[0m 2ms/step - Accuracy: 0.8456 - loss: 0.3586 - val_Accuracy: 0.8515 - val_loss: 0.3410\n",
            "Epoch 11/100\n",
            "\u001b[1m855/855\u001b[0m \u001b[32m━━━━━━━━━━━━━━━━━━━━\u001b[0m\u001b[37m\u001b[0m \u001b[1m3s\u001b[0m 2ms/step - Accuracy: 0.8462 - loss: 0.3556 - val_Accuracy: 0.8623 - val_loss: 0.3427\n",
            "Epoch 12/100\n",
            "\u001b[1m855/855\u001b[0m \u001b[32m━━━━━━━━━━━━━━━━━━━━\u001b[0m\u001b[37m\u001b[0m \u001b[1m3s\u001b[0m 3ms/step - Accuracy: 0.8457 - loss: 0.3515 - val_Accuracy: 0.8623 - val_loss: 0.3417\n",
            "Epoch 13/100\n",
            "\u001b[1m855/855\u001b[0m \u001b[32m━━━━━━━━━━━━━━━━━━━━\u001b[0m\u001b[37m\u001b[0m \u001b[1m2s\u001b[0m 2ms/step - Accuracy: 0.8443 - loss: 0.3556 - val_Accuracy: 0.8497 - val_loss: 0.3407\n",
            "Epoch 14/100\n",
            "\u001b[1m855/855\u001b[0m \u001b[32m━━━━━━━━━━━━━━━━━━━━\u001b[0m\u001b[37m\u001b[0m \u001b[1m2s\u001b[0m 2ms/step - Accuracy: 0.8480 - loss: 0.3577 - val_Accuracy: 0.8551 - val_loss: 0.3406\n",
            "Epoch 15/100\n",
            "\u001b[1m855/855\u001b[0m \u001b[32m━━━━━━━━━━━━━━━━━━━━\u001b[0m\u001b[37m\u001b[0m \u001b[1m3s\u001b[0m 2ms/step - Accuracy: 0.8448 - loss: 0.3577 - val_Accuracy: 0.8515 - val_loss: 0.3466\n",
            "Epoch 16/100\n",
            "\u001b[1m855/855\u001b[0m \u001b[32m━━━━━━━━━━━━━━━━━━━━\u001b[0m\u001b[37m\u001b[0m \u001b[1m2s\u001b[0m 2ms/step - Accuracy: 0.8428 - loss: 0.3605 - val_Accuracy: 0.8533 - val_loss: 0.3405\n",
            "Epoch 17/100\n",
            "\u001b[1m855/855\u001b[0m \u001b[32m━━━━━━━━━━━━━━━━━━━━\u001b[0m\u001b[37m\u001b[0m \u001b[1m2s\u001b[0m 2ms/step - Accuracy: 0.8441 - loss: 0.3535 - val_Accuracy: 0.8694 - val_loss: 0.3551\n",
            "Epoch 18/100\n",
            "\u001b[1m855/855\u001b[0m \u001b[32m━━━━━━━━━━━━━━━━━━━━\u001b[0m\u001b[37m\u001b[0m \u001b[1m3s\u001b[0m 3ms/step - Accuracy: 0.8421 - loss: 0.3621 - val_Accuracy: 0.8676 - val_loss: 0.3458\n",
            "Epoch 19/100\n",
            "\u001b[1m855/855\u001b[0m \u001b[32m━━━━━━━━━━━━━━━━━━━━\u001b[0m\u001b[37m\u001b[0m \u001b[1m2s\u001b[0m 2ms/step - Accuracy: 0.8398 - loss: 0.3606 - val_Accuracy: 0.8515 - val_loss: 0.3439\n"
          ]
        },
        {
          "output_type": "execute_result",
          "data": {
            "text/plain": [
              "<keras.src.callbacks.history.History at 0x78afe1e72990>"
            ]
          },
          "metadata": {},
          "execution_count": 63
        }
      ]
    },
    {
      "cell_type": "code",
      "source": [
        "model.evaluate(x_test, y_test) #evaluating model"
      ],
      "metadata": {
        "colab": {
          "base_uri": "https://localhost:8080/"
        },
        "id": "WFHW7XIkImOz",
        "outputId": "063a487b-dbd7-4069-9a42-f2f4368ebe6b"
      },
      "execution_count": 64,
      "outputs": [
        {
          "output_type": "stream",
          "name": "stdout",
          "text": [
            "\u001b[1m18/18\u001b[0m \u001b[32m━━━━━━━━━━━━━━━━━━━━\u001b[0m\u001b[37m\u001b[0m \u001b[1m0s\u001b[0m 3ms/step - Accuracy: 0.8706 - loss: 0.3099 \n"
          ]
        },
        {
          "output_type": "execute_result",
          "data": {
            "text/plain": [
              "[0.34056463837623596, 0.8550983667373657]"
            ]
          },
          "metadata": {},
          "execution_count": 64
        }
      ]
    },
    {
      "cell_type": "code",
      "source": [
        "# calculating f1 score of the nural network\n",
        "\n",
        "import tensorflow as tf\n",
        "\n",
        "def f1_score(y_true, y_pred):\n",
        "    # Use metric classes to calculate true positives, false positives, and false negatives\n",
        "    true_positives = tf.keras.metrics.TruePositives()(y_true, y_pred).numpy()\n",
        "    false_positives = tf.keras.metrics.FalsePositives()(y_true, y_pred).numpy()\n",
        "    false_negatives = tf.keras.metrics.FalseNegatives()(y_true, y_pred).numpy()\n",
        "\n",
        "\n",
        "    precision = true_positives / (true_positives + false_positives + tf.keras.backend.epsilon())\n",
        "    recall = true_positives / (true_positives + false_negatives + tf.keras.backend.epsilon())\n",
        "    f1_val = 2 * (precision * recall) / (precision + recall + tf.keras.backend.epsilon())\n",
        "    return f1_val\n",
        "\n",
        "# Dummy data for example\n",
        "y_true = y_test\n",
        "y_pred = model.predict(x_test)\n",
        "\n",
        "# Calculate F1 score\n",
        "f1 = f1_score(y_true, y_pred)\n",
        "\n",
        "print(\"F1 Score:\", f1)"
      ],
      "metadata": {
        "id": "NhH4O6JobhNQ",
        "colab": {
          "base_uri": "https://localhost:8080/"
        },
        "outputId": "01eb40a8-60ca-477f-b334-e9aa163075d7"
      },
      "execution_count": 65,
      "outputs": [
        {
          "output_type": "stream",
          "name": "stdout",
          "text": [
            "\u001b[1m18/18\u001b[0m \u001b[32m━━━━━━━━━━━━━━━━━━━━\u001b[0m\u001b[37m\u001b[0m \u001b[1m0s\u001b[0m 4ms/step\n",
            "F1 Score: 0.8810572\n"
          ]
        }
      ]
    },
    {
      "cell_type": "code",
      "source": [
        "age = 19\n",
        "academic_pressure=2.0\n",
        "# CGPa = 0\n",
        "Study_Satisfaction = 1.0\n",
        "work_study = 2.0\n",
        "financial_stress = 2.0\n",
        "genderencode = 1\n",
        "family_history_encode = 1\n",
        "suicidalencoded= 0\n",
        "sleep_encode = 1\n",
        "dietary_encode = 1\n",
        "\n",
        "value = model.predict(tf.constant([[age,academic_pressure,Study_Satisfaction,work_study,genderencode,\n",
        "                                    financial_stress,sleep_encode,dietary_encode,family_history_encode,suicidalencoded]]))\n",
        "\n",
        "# value = model.predict(tf.constant([[2.0,5.90,5.0,3.0,0,5,0]]))\n",
        "print(value[0][0]*100)"
      ],
      "metadata": {
        "colab": {
          "base_uri": "https://localhost:8080/"
        },
        "id": "Dskr7Bm5T-tg",
        "outputId": "418904df-e80d-4c40-f258-16311c9d6e61"
      },
      "execution_count": 66,
      "outputs": [
        {
          "output_type": "stream",
          "name": "stdout",
          "text": [
            "\u001b[1m1/1\u001b[0m \u001b[32m━━━━━━━━━━━━━━━━━━━━\u001b[0m\u001b[37m\u001b[0m \u001b[1m0s\u001b[0m 32ms/step\n",
            "45.767757\n"
          ]
        }
      ]
    },
    {
      "cell_type": "code",
      "source": [
        "model.save('model.keras')"
      ],
      "metadata": {
        "id": "NZPnb8jSTdnX"
      },
      "execution_count": 67,
      "outputs": []
    },
    {
      "cell_type": "code",
      "source": [
        "'''\n",
        "now making a logistic regression model\n",
        "\n",
        "'''\n",
        "\n",
        "\n",
        "# Drop rows with NaN values from the training data\n",
        "x_train_cleaned = x_train.dropna()\n",
        "y_train_cleaned = y_train.loc[x_train_cleaned.index]\n",
        "\n",
        "\n",
        "# '''' using logistic regression algorithm '''\n",
        "\n",
        "from sklearn.linear_model import LogisticRegression\n",
        "reg = LogisticRegression()                   #85% Accuracy\n",
        "reg.fit(x_train_cleaned, y_train_cleaned)\n",
        "\n",
        "\n",
        "# using SVM model\n",
        "\n",
        "# from sklearn import svm\n",
        "\n",
        "# reg = svm.SVC()                               #84% Accuracy\n",
        "# reg.fit(x_train_cleaned, y_train_cleaned)\n",
        "\n",
        "# from sklearn.tree import DecisionTreeClassifier\n",
        "\n",
        "# reg = DecisionTreeClassifier()\n",
        "# reg.fit(x_train_cleaned, y_train_cleaned)"
      ],
      "metadata": {
        "id": "5_Kh646-BUFy",
        "colab": {
          "base_uri": "https://localhost:8080/",
          "height": 35
        },
        "outputId": "f8234082-fe19-49b5-f6f9-5ef86465a828"
      },
      "execution_count": 60,
      "outputs": [
        {
          "output_type": "execute_result",
          "data": {
            "text/plain": [
              "' using SVM model '"
            ],
            "application/vnd.google.colaboratory.intrinsic+json": {
              "type": "string"
            }
          },
          "metadata": {},
          "execution_count": 60
        }
      ]
    },
    {
      "cell_type": "code",
      "source": [
        "age = 19\n",
        "academic_pressure=1.0\n",
        "Study_Satisfaction = 4.0\n",
        "work_study = 2.0\n",
        "financial = 1\n",
        "genderencode = 1\n",
        "family_history_encode = 0\n",
        "suicidalencoded= 0\n",
        "sleep_encode=1\n",
        "dietary_encode = 1\n",
        "\n",
        "reg.predict([[age,academic_pressure,Study_Satisfaction,work_study,financial,genderencode,family_history_encode,suicidalencoded,sleep_encode,dietary_encode]])"
      ],
      "metadata": {
        "colab": {
          "base_uri": "https://localhost:8080/"
        },
        "id": "11bMu-bHBzgL",
        "outputId": "1a885fa3-0477-4e57-d0ca-fb81c66a3391"
      },
      "execution_count": 61,
      "outputs": [
        {
          "output_type": "stream",
          "name": "stderr",
          "text": [
            "/usr/local/lib/python3.12/dist-packages/sklearn/utils/validation.py:2739: UserWarning: X does not have valid feature names, but LogisticRegression was fitted with feature names\n",
            "  warnings.warn(\n"
          ]
        },
        {
          "output_type": "execute_result",
          "data": {
            "text/plain": [
              "array([0])"
            ]
          },
          "metadata": {},
          "execution_count": 61
        }
      ]
    },
    {
      "cell_type": "code",
      "source": [
        "score = reg.score(x_test, y_test)\n",
        "print(f\"Score method - Accuracy: {score}\")\n",
        "\n"
      ],
      "metadata": {
        "colab": {
          "base_uri": "https://localhost:8080/"
        },
        "id": "Tv-HMO3EBn2F",
        "outputId": "7422fb28-ef5c-4717-cfc2-a2c45edcbd62"
      },
      "execution_count": 62,
      "outputs": [
        {
          "output_type": "stream",
          "name": "stdout",
          "text": [
            "Score method - Accuracy: 0.8568872987477638\n"
          ]
        }
      ]
    },
    {
      "cell_type": "code",
      "source": [
        "import pickle\n",
        "\n",
        "# Save the trained model as a pickle string.\n",
        "pickle.dump(reg, open(\"ml-deptest.sav\", 'wb'))"
      ],
      "metadata": {
        "id": "_ONB0vujCr3R"
      },
      "execution_count": 38,
      "outputs": []
    },
    {
      "cell_type": "code",
      "source": [
        "from sklearn import metrics\n",
        "import pickle\n",
        "load_model = pickle.load(open(\"depression_logistic_with_85_new.sav\", 'rb'))\n",
        "\n",
        "\n",
        "# y_pred = reg.predict([[age,academic_pressure,CGPa,Study_Satisfaction,work_study,genderencode,cityencode,suicidalencoded]])\n",
        "\n",
        "y_pred = load_model.predict(x_test)\n",
        "print('root mean squared error : ', np.sqrt(\n",
        "    metrics.mean_squared_error(y_test, y_pred)))"
      ],
      "metadata": {
        "colab": {
          "base_uri": "https://localhost:8080/"
        },
        "id": "6pAM6EGJDjsV",
        "outputId": "a55c1426-0e6e-4fe5-d632-d736a4669b96"
      },
      "execution_count": null,
      "outputs": [
        {
          "output_type": "stream",
          "name": "stdout",
          "text": [
            "root mean squared error :  0.38500789506912975\n"
          ]
        }
      ]
    }
  ]
}